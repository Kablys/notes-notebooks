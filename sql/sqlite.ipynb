{
 "cells": [
  {
   "cell_type": "markdown",
   "id": "43a4e224-6026-4707-a6b8-e9ac58a50d7a",
   "metadata": {},
   "source": [
    "Using `xeus-sqlite`\\\n",
    "Interactive alternative https://mybinder.org/v2/gh/jupyter-xeus/xeus-sqlite/stable"
   ]
  },
  {
   "cell_type": "code",
   "execution_count": 1,
   "id": "644b43cf-26fa-447d-9aa2-e598d0c3af97",
   "metadata": {},
   "outputs": [],
   "source": [
    "%CREATE temp.db tempdb"
   ]
  },
  {
   "cell_type": "code",
   "execution_count": 2,
   "id": "e05aa205-2a38-4e42-8f92-7048da8c81d0",
   "metadata": {},
   "outputs": [],
   "source": [
    "CREATE TABLE players (Name STRING, Class STRING, Level INTEGER)"
   ]
  },
  {
   "cell_type": "code",
   "execution_count": null,
   "id": "00105229-9847-4dfe-b7c4-2699f7c08f9d",
   "metadata": {},
   "outputs": [],
   "source": [
    "INSERT INTO players (Name, Class, Level) \n",
    "VALUES \n",
    "    (\"Martin Splitskull\", \"Warrior\", 3),\n",
    "    (\"Sir Wolf\", \"Cleric\", 2);"
   ]
  },
  {
   "cell_type": "code",
   "execution_count": 13,
   "id": "ede1948e-40fc-4238-b077-0224916e582a",
   "metadata": {},
   "outputs": [],
   "source": [
    "INSERT INTO players (Name, Class) VALUES (\"Sylvain, The Grey\", \"Wizard\")"
   ]
  },
  {
   "cell_type": "code",
   "execution_count": 14,
   "id": "6847780e-2adc-4875-9de4-e2554da54188",
   "metadata": {},
   "outputs": [
    {
     "data": {
      "text/html": [
       "<table>\n",
       "<tr>\n",
       "<th>Name</th>\n",
       "<th>Class</th>\n",
       "<th>Level</th>\n",
       "</tr>\n",
       "<tr>\n",
       "<td>Martin Splitskull</td>\n",
       "<td>Warrior</td>\n",
       "<td>3</td>\n",
       "</tr>\n",
       "<tr>\n",
       "<td>Martin Splitskull</td>\n",
       "<td>Warrior</td>\n",
       "<td>3</td>\n",
       "</tr>\n",
       "<tr>\n",
       "<td>Sir Wolf</td>\n",
       "<td>Cleric</td>\n",
       "<td>2</td>\n",
       "</tr>\n",
       "<tr>\n",
       "<td>Martin Splitskull</td>\n",
       "<td>Warrior</td>\n",
       "<td>3</td>\n",
       "</tr>\n",
       "<tr>\n",
       "<td>Sir Wolf</td>\n",
       "<td>Cleric</td>\n",
       "<td>2</td>\n",
       "</tr>\n",
       "<tr>\n",
       "<td>Sylvain, The Grey</td>\n",
       "<td>Wizard</td>\n",
       "<td></td>\n",
       "</tr>\n",
       "</table>"
      ],
      "text/plain": [
       "+-------------------+---------+-------+\n",
       "| Name              | Class   | Level |\n",
       "+-------------------+---------+-------+\n",
       "| Martin Splitskull | Warrior | 3     |\n",
       "+-------------------+---------+-------+\n",
       "| Martin Splitskull | Warrior | 3     |\n",
       "+-------------------+---------+-------+\n",
       "| Sir Wolf          | Cleric  | 2     |\n",
       "+-------------------+---------+-------+\n",
       "| Martin Splitskull | Warrior | 3     |\n",
       "+-------------------+---------+-------+\n",
       "| Sir Wolf          | Cleric  | 2     |\n",
       "+-------------------+---------+-------+\n",
       "| Sylvain, The Grey | Wizard  |       |\n",
       "+-------------------+---------+-------+"
      ]
     },
     "execution_count": 14,
     "metadata": {},
     "output_type": "execute_result"
    }
   ],
   "source": [
    "SELECT * FROM players"
   ]
  },
  {
   "cell_type": "code",
   "execution_count": 15,
   "id": "f1b00bcc-a607-4fde-b585-d03392f3687e",
   "metadata": {},
   "outputs": [
    {
     "data": {
      "text/html": [
       "<table>\n",
       "<tr>\n",
       "<th>SUM (Level)</th>\n",
       "</tr>\n",
       "<tr>\n",
       "<td>13</td>\n",
       "</tr>\n",
       "</table>"
      ],
      "text/plain": [
       "+-------------+\n",
       "| SUM (Level) |\n",
       "+-------------+\n",
       "| 13          |\n",
       "+-------------+"
      ]
     },
     "execution_count": 15,
     "metadata": {},
     "output_type": "execute_result"
    }
   ],
   "source": [
    "SELECT SUM (Level) FROM players"
   ]
  },
  {
   "cell_type": "code",
   "execution_count": 16,
   "id": "211225a6-6417-44b3-be28-db5ed14c9a25",
   "metadata": {},
   "outputs": [
    {
     "data": {
      "text/plain": [
       "The table players exists."
      ]
     },
     "execution_count": 16,
     "metadata": {},
     "output_type": "execute_result"
    }
   ],
   "source": [
    "%TABLE_EXISTS players"
   ]
  },
  {
   "cell_type": "code",
   "execution_count": 17,
   "id": "47a46246-c032-49a9-b9da-a1b72780df36",
   "metadata": {},
   "outputs": [
    {
     "data": {
      "text/plain": [
       "The table npcs doesn't exist."
      ]
     },
     "execution_count": 17,
     "metadata": {},
     "output_type": "execute_result"
    }
   ],
   "source": [
    "%TABLE_EXISTS npcs"
   ]
  },
  {
   "cell_type": "code",
   "execution_count": 18,
   "id": "da8a8bef-0fdc-4f1a-ae31-c192b8a64c30",
   "metadata": {},
   "outputs": [
    {
     "data": {
      "text/plain": [
       "Magic header string: SQLite format 3\n",
       "Page size bytes: 4096\n",
       "File format write version: 1\n",
       "File format read version: 1\n",
       "Reserved space bytes: 0\n",
       "Max embedded payload fraction 64\n",
       "Min embedded payload fraction: 32\n",
       "Leaf payload fraction: 32\n",
       "File change counter: 5\n",
       "Database size pages: 2\n",
       "First freelist trunk page: 0\n",
       "Total freelist trunk pages: 0\n",
       "Schema cookie: 1\n",
       "Schema format number: 4\n",
       "Default page cache size bytes: 0\n",
       "Largest B tree page number: 0\n",
       "Database text encoding: 1\n",
       "User version: 0\n",
       "Incremental vaccum mode: 0\n",
       "Application ID: 0\n",
       "Version valid for: 5\n",
       "SQLite version: 3045003\n"
      ]
     },
     "execution_count": 18,
     "metadata": {},
     "output_type": "execute_result"
    }
   ],
   "source": [
    "%GET_INFO"
   ]
  },
  {
   "cell_type": "code",
   "execution_count": 19,
   "id": "448f4b87-8a7a-4e7b-94f0-50e01ecb7a45",
   "metadata": {},
   "outputs": [],
   "source": [
    "%DELETE"
   ]
  }
 ],
 "metadata": {
  "kernelspec": {
   "display_name": "xsqlite",
   "language": "sqlite",
   "name": "xsqlite"
  },
  "language_info": {
   "codemirror_mode": "sql",
   "file_extension": "",
   "mimetype": "",
   "name": "sql",
   "version": "3.44.2"
  }
 },
 "nbformat": 4,
 "nbformat_minor": 5
}
