{
 "cells": [
  {
   "cell_type": "markdown",
   "metadata": {},
   "source": [
    "Flash cards:\n",
    "slots, symbols"
   ]
  },
  {
   "cell_type": "code",
   "execution_count": 13,
   "metadata": {},
   "outputs": [
    {
     "data": {
      "text/plain": [
       "\u001b[32m\"use strict\"\u001b[39m"
      ]
     },
     "execution_count": 13,
     "metadata": {},
     "output_type": "execute_result"
    }
   ],
   "source": [
    "\"use strict\";"
   ]
  },
  {
   "cell_type": "markdown",
   "metadata": {},
   "source": [
    "## Interesting Types"
   ]
  },
  {
   "cell_type": "code",
   "execution_count": 22,
   "metadata": {},
   "outputs": [
    {
     "name": "stdout",
     "output_type": "stream",
     "text": [
      "┌──────────┬─────────────────────────┐\n",
      "│ (idx)    │ Values                  │\n",
      "├──────────┼─────────────────────────┤\n",
      "│ max      │ 1.7976931348623157e+308 │\n",
      "│ min      │ 5e-324                  │\n",
      "│ safe_max │ 9007199254740991        │\n",
      "│ safe_min │ -9007199254740991       │\n",
      "└──────────┴─────────────────────────┘\n"
     ]
    }
   ],
   "source": [
    "console.table({\n",
    "    max: Number.MAX_VALUE,\n",
    "    min: Number.MIN_VALUE,\n",
    "    safe_max: Number.MAX_SAFE_INTEGER,\n",
    "    safe_min: Number.MIN_SAFE_INTEGER,\n",
    "})"
   ]
  },
  {
   "cell_type": "code",
   "execution_count": 28,
   "metadata": {},
   "outputs": [
    {
     "data": {
      "text/plain": [
       "\u001b[33m81129638414606663681390495662080n\u001b[39m"
      ]
     },
     "execution_count": 28,
     "metadata": {},
     "output_type": "execute_result"
    }
   ],
   "source": [
    "BigInt(Number.MAX_SAFE_INTEGER * Number.MAX_SAFE_INTEGER)"
   ]
  },
  {
   "cell_type": "code",
   "execution_count": 23,
   "metadata": {},
   "outputs": [
    {
     "data": {
      "text/plain": [
       "\u001b[33mtrue\u001b[39m"
      ]
     },
     "execution_count": 23,
     "metadata": {},
     "output_type": "execute_result"
    }
   ],
   "source": [
    "Number.MAX_SAFE_INTEGER + 1 === Number.MAX_SAFE_INTEGER + 2"
   ]
  },
  {
   "cell_type": "code",
   "execution_count": 25,
   "metadata": {},
   "outputs": [
    {
     "data": {
      "text/plain": [
       "\u001b[33mfalse\u001b[39m"
      ]
     },
     "execution_count": 25,
     "metadata": {},
     "output_type": "execute_result"
    }
   ],
   "source": [
    "BigInt(Number.MAX_SAFE_INTEGER) + 1n === BigInt(Number.MAX_SAFE_INTEGER) + 2n"
   ]
  },
  {
   "cell_type": "markdown",
   "metadata": {},
   "source": [
    "**Symbol** - always unique, used as static properties, not `JSON.stringify`ed, "
   ]
  },
  {
   "cell_type": "code",
   "execution_count": 32,
   "metadata": {},
   "outputs": [
    {
     "data": {
      "text/plain": [
       "\u001b[33mfalse\u001b[39m"
      ]
     },
     "execution_count": 32,
     "metadata": {},
     "output_type": "execute_result"
    }
   ],
   "source": [
    "Symbol(\"foo\") === Symbol(\"foo\");"
   ]
  },
  {
   "cell_type": "code",
   "execution_count": 34,
   "metadata": {},
   "outputs": [
    {
     "data": {
      "text/plain": [
       "\u001b[33mtrue\u001b[39m"
      ]
     },
     "execution_count": 34,
     "metadata": {},
     "output_type": "execute_result"
    }
   ],
   "source": [
    "Symbol.keyFor(Symbol.for(\"tokenString\")) === \"tokenString\""
   ]
  },
  {
   "cell_type": "markdown",
   "metadata": {},
   "source": [
    "Special values:"
   ]
  },
  {
   "cell_type": "code",
   "execution_count": null,
   "metadata": {
    "notebookRunGroups": {
     "groupValue": "1"
    }
   },
   "outputs": [],
   "source": [
    "Infinity; // result of e.g. 1/0\n",
    "-Infinity; // result of e.g. -1/0\n",
    "NaN;\n",
    "null;      // used to indicate a deliberate non-value\n",
    "undefined; // used to indicate a value is not currently present (although\n",
    "           // `undefined` is actually a value itself)"
   ]
  },
  {
   "cell_type": "code",
   "execution_count": null,
   "metadata": {},
   "outputs": [],
   "source": [
    "[false, null, undefined, NaN, 0, \"\"] // are falsy; everything else is truthy."
   ]
  },
  {
   "cell_type": "markdown",
   "metadata": {},
   "source": [
    "Operation with non numbers:"
   ]
  },
  {
   "cell_type": "code",
   "execution_count": 38,
   "metadata": {
    "metadata": {}
   },
   "outputs": [
    {
     "data": {
      "text/plain": [
       "\u001b[32m\"Hello world,!2true\"\u001b[39m"
      ]
     },
     "execution_count": 38,
     "metadata": {},
     "output_type": "execute_result"
    }
   ],
   "source": [
    "\"Hello \" + [\"world\", \"!\"]  + (1 + !0) + !0;"
   ]
  },
  {
   "cell_type": "markdown",
   "metadata": {},
   "source": [
    "## Strings"
   ]
  },
  {
   "cell_type": "code",
   "execution_count": 11,
   "metadata": {
    "metadata": {}
   },
   "outputs": [
    {
     "name": "stdout",
     "output_type": "stream",
     "text": [
      "T \n",
      " Hello\n"
     ]
    }
   ],
   "source": [
    "console.log(\n",
    "    \"This is a string\".charAt(0),\"\\n\",\n",
    "    \"Hello world\".substring(0, 5)\n",
    ")"
   ]
  },
  {
   "cell_type": "code",
   "execution_count": 14,
   "metadata": {
    "metadata": {}
   },
   "outputs": [
    {
     "name": "stdout",
     "output_type": "stream",
     "text": [
      "7 8\n"
     ]
    }
   ],
   "source": [
    "console.log(\"Hello W\".length, \"Hello 🌍\".length)"
   ]
  },
  {
   "cell_type": "markdown",
   "metadata": {},
   "source": [
    "## Arrays"
   ]
  },
  {
   "cell_type": "code",
   "execution_count": 16,
   "metadata": {
    "metadata": {}
   },
   "outputs": [],
   "source": [
    "let myArray = [\"Hello\", 45, true];"
   ]
  },
  {
   "cell_type": "code",
   "execution_count": 17,
   "metadata": {
    "metadata": {}
   },
   "outputs": [
    {
     "data": {
      "text/plain": [
       "\u001b[32m\"Hello\"\u001b[39m"
      ]
     },
     "execution_count": 17,
     "metadata": {},
     "output_type": "execute_result"
    }
   ],
   "source": [
    "myArray[0];"
   ]
  },
  {
   "cell_type": "code",
   "execution_count": 18,
   "metadata": {
    "metadata": {}
   },
   "outputs": [
    {
     "data": {
      "text/plain": [
       "\u001b[33m4\u001b[39m"
      ]
     },
     "execution_count": 18,
     "metadata": {},
     "output_type": "execute_result"
    }
   ],
   "source": [
    "myArray.push(\"World\");\n",
    "myArray.length;"
   ]
  },
  {
   "cell_type": "code",
   "execution_count": 19,
   "metadata": {
    "metadata": {}
   },
   "outputs": [
    {
     "data": {
      "text/plain": [
       "\u001b[33m3\u001b[39m"
      ]
     },
     "execution_count": 19,
     "metadata": {},
     "output_type": "execute_result"
    }
   ],
   "source": [
    "myArray.unshift(3); // Add as the first element\n",
    "let somelet = myArray.shift(); // Remove first element and return it\n",
    "myArray.push(3); // Add as the last element\n",
    "somelet = myArray.pop(); // Remove last element and return it"
   ]
  },
  {
   "cell_type": "code",
   "execution_count": 22,
   "metadata": {
    "metadata": {}
   },
   "outputs": [
    {
     "data": {
      "text/plain": [
       "\u001b[32m\"32;false;js;12;56;90\"\u001b[39m"
      ]
     },
     "execution_count": 22,
     "metadata": {},
     "output_type": "execute_result"
    }
   ],
   "source": [
    "let myArray0 = [32,false,\"js\",12,56,90];\n",
    "myArray0.join(\";\");"
   ]
  },
  {
   "cell_type": "code",
   "execution_count": 23,
   "metadata": {
    "metadata": {}
   },
   "outputs": [
    {
     "data": {
      "text/plain": [
       "[ \u001b[33mfalse\u001b[39m, \u001b[32m\"js\"\u001b[39m, \u001b[33m12\u001b[39m ]"
      ]
     },
     "execution_count": 23,
     "metadata": {},
     "output_type": "execute_result"
    }
   ],
   "source": [
    "myArray0.slice(1,4);"
   ]
  },
  {
   "cell_type": "code",
   "execution_count": 24,
   "metadata": {
    "metadata": {}
   },
   "outputs": [
    {
     "data": {
      "text/plain": [
       "[ \u001b[32m\"js\"\u001b[39m, \u001b[33m12\u001b[39m, \u001b[33m56\u001b[39m, \u001b[33m90\u001b[39m ]"
      ]
     },
     "execution_count": 24,
     "metadata": {},
     "output_type": "execute_result"
    }
   ],
   "source": [
    "// Remove 4 elements starting from index 2, and insert there strings\n",
    "// \"hi\",\"wr\" and \"ld\"; return removed subarray\n",
    "myArray0.splice(2,4,\"hi\",\"wr\",\"ld\"); // = [\"js\",12,56,90]"
   ]
  },
  {
   "cell_type": "code",
   "execution_count": 25,
   "metadata": {
    "metadata": {}
   },
   "outputs": [
    {
     "data": {
      "text/plain": [
       "[ \u001b[33m32\u001b[39m, \u001b[33mfalse\u001b[39m, \u001b[32m\"hi\"\u001b[39m, \u001b[32m\"wr\"\u001b[39m, \u001b[32m\"ld\"\u001b[39m ]"
      ]
     },
     "execution_count": 25,
     "metadata": {},
     "output_type": "execute_result"
    }
   ],
   "source": [
    "myArray0"
   ]
  },
  {
   "cell_type": "markdown",
   "metadata": {},
   "source": [
    "## Scopes"
   ]
  },
  {
   "cell_type": "markdown",
   "metadata": {},
   "source": [
    "Global, Function, Block (only with `let` and `const`), Local"
   ]
  },
  {
   "cell_type": "markdown",
   "metadata": {
    "metadata": {}
   },
   "source": [
    "## Logic and Control Structures"
   ]
  },
  {
   "cell_type": "code",
   "execution_count": 27,
   "metadata": {
    "editable": true,
    "metadata": {},
    "scrolled": true,
    "slideshow": {
     "slide_type": ""
    },
    "tags": []
   },
   "outputs": [],
   "source": [
    "let count = 1;\n",
    "if (count == 3){\n",
    "    // evaluated if count is 3\n",
    "} else if (count == 4){\n",
    "    // evaluated if count is 4\n",
    "} else {\n",
    "    // evaluated if it's not either 3 or 4\n",
    "}"
   ]
  },
  {
   "cell_type": "code",
   "execution_count": 28,
   "metadata": {
    "metadata": {}
   },
   "outputs": [],
   "source": [
    "while (true){\n",
    "    // An infinite loop!\n",
    "    break\n",
    "}"
   ]
  },
  {
   "cell_type": "code",
   "execution_count": 30,
   "metadata": {
    "metadata": {}
   },
   "outputs": [
    {
     "name": "stdout",
     "output_type": "stream",
     "text": [
      "Once\n"
     ]
    }
   ],
   "source": [
    "let input;\n",
    "do {\n",
    "    console.log(\"Once\")\n",
    "} while (false);"
   ]
  },
  {
   "cell_type": "code",
   "execution_count": 31,
   "metadata": {
    "metadata": {}
   },
   "outputs": [],
   "source": [
    "outer:\n",
    "for (let i = 0; i < 10; i++) {\n",
    "    for (let j = 0; j < 10; j++) {\n",
    "        if (i == 5 && j ==5) {\n",
    "            break outer;\n",
    "            // breaks out of outer loop instead of only the inner one\n",
    "        }\n",
    "    }\n",
    "}"
   ]
  },
  {
   "cell_type": "code",
   "execution_count": 47,
   "metadata": {
    "metadata": {}
   },
   "outputs": [
    {
     "data": {
      "text/plain": [
       "\u001b[32m\"Paul Ken 18 \"\u001b[39m"
      ]
     },
     "execution_count": 47,
     "metadata": {},
     "output_type": "execute_result"
    }
   ],
   "source": [
    "// The for/in statement allows iteration over properties of an object.\n",
    "let description = \"\";\n",
    "let person = {fname:\"Paul\", lname:\"Ken\", age:18};\n",
    "for (let x in person){\n",
    "    description += person[x] + \" \";\n",
    "}"
   ]
  },
  {
   "cell_type": "code",
   "execution_count": 44,
   "metadata": {
    "metadata": {}
   },
   "outputs": [
    {
     "data": {
      "text/plain": [
       "\u001b[32m\"cat dog hamster hedgehog \"\u001b[39m"
      ]
     },
     "execution_count": 44,
     "metadata": {},
     "output_type": "execute_result"
    }
   ],
   "source": [
    "let myPets = \"\";\n",
    "let pets = [\"cat\", \"dog\", \"hamster\", \"hedgehog\"];\n",
    "for (let pet of pets){\n",
    "    myPets += pet + \" \";\n",
    "} // myPets = 'cat dog hamster hedgehog '"
   ]
  },
  {
   "cell_type": "code",
   "execution_count": 49,
   "metadata": {
    "metadata": {}
   },
   "outputs": [
    {
     "name": "stdout",
     "output_type": "stream",
     "text": [
      "OK job\n"
     ]
    }
   ],
   "source": [
    "let grade = 'B';\n",
    "switch (grade) {\n",
    "  case 'A':\n",
    "    console.log(\"Great job\");\n",
    "    break;\n",
    "  case 'B':\n",
    "    console.log(\"OK job\");\n",
    "    break;\n",
    "  case 'C':\n",
    "    console.log(\"You can do better\");\n",
    "    break;\n",
    "  default:\n",
    "    console.log(\"Oy vey\");\n",
    "    break;\n",
    "}"
   ]
  },
  {
   "cell_type": "markdown",
   "metadata": {},
   "source": [
    "## Advenced operators\n",
    "TOOD: Optional chaining `?.`"
   ]
  },
  {
   "cell_type": "markdown",
   "metadata": {},
   "source": [
    "### Spred operator"
   ]
  },
  {
   "cell_type": "code",
   "execution_count": 6,
   "metadata": {},
   "outputs": [
    {
     "name": "stdout",
     "output_type": "stream",
     "text": [
      "[ \"Mary\", \"Joel\", \"Danny\", \"John\" ] [ \"David\", \"Mary\", \"Joel\", \"Danny\", \"Lily\" ]\n",
      "{\n",
      "  name: \"Adam\",\n",
      "  age: 25,\n",
      "  city: \"Manchester\",\n",
      "  salary: 50000,\n",
      "  position: \"Software Developer\"\n",
      "}\n"
     ]
    }
   ],
   "source": [
    "let contacts = [\"Mary\", \"Joel\", \"Danny\"];\n",
    "let personalFriends = [ \"David\", ...contacts, \"Lily\" ];\n",
    "contacts.push(\"John\");\n",
    "console.log(contacts, personalFriends);\n",
    "\n",
    "let person = {\n",
    "    name: \"Adam\",\n",
    "    age: 25,\n",
    "    city: \"Manchester\"\n",
    "}\n",
    "let employee = {\n",
    "    ...person,\n",
    "    salary: 50000,\n",
    "    position: \"Software Developer\"\n",
    "}\n",
    "console.log(employee);"
   ]
  },
  {
   "cell_type": "markdown",
   "metadata": {},
   "source": [
    "### Rest Operator"
   ]
  },
  {
   "cell_type": "code",
   "execution_count": null,
   "metadata": {},
   "outputs": [],
   "source": [
    "function add(...nums) {\n",
    "    \n",
    "    console.log(nums);\n",
    "}\n",
    "\n",
    "add(4, 5, 7, 8, 12)"
   ]
  },
  {
   "cell_type": "markdown",
   "metadata": {},
   "source": [
    "## Functions"
   ]
  },
  {
   "cell_type": "code",
   "execution_count": 53,
   "metadata": {
    "metadata": {}
   },
   "outputs": [
    {
     "name": "stdout",
     "output_type": "stream",
     "text": [
      "Mozilla\n"
     ]
    }
   ],
   "source": [
    "// Closure\n",
    "function makeFunc() {\n",
    "    const name = \"Mozilla\";\n",
    "    function displayName() {\n",
    "        console.log(name);\n",
    "    }\n",
    "    return displayName;\n",
    "}\n",
    "  \n",
    "const myFunc = makeFunc();\n",
    "myFunc();"
   ]
  },
  {
   "cell_type": "code",
   "execution_count": 12,
   "metadata": {},
   "outputs": [
    {
     "name": "stdout",
     "output_type": "stream",
     "text": [
      "a \u001b[33m1\u001b[39m\n",
      "b \u001b[33m2\u001b[39m\n",
      "manyMoreArgs [ \u001b[33m3\u001b[39m, \u001b[33m4\u001b[39m, \u001b[33m5\u001b[39m ]\n"
     ]
    }
   ],
   "source": [
    "function myFun(a, b, ...manyMoreArgs) {\n",
    "  console.log(\"a\", a);\n",
    "  console.log(\"b\", b);\n",
    "  console.log(\"manyMoreArgs\", manyMoreArgs);\n",
    "}\n",
    "myFun(1,2,3,4,5)"
   ]
  },
  {
   "cell_type": "code",
   "execution_count": 20,
   "metadata": {},
   "outputs": [
    {
     "name": "stdout",
     "output_type": "stream",
     "text": [
      "\u001b[33m10\u001b[39m\n",
      "\u001b[33m5\u001b[39m\n",
      "\u001b[33mNaN\u001b[39m\n"
     ]
    }
   ],
   "source": [
    "function multiply(a, b = 1) {\n",
    "  return a * b;\n",
    "}\n",
    "console.log(multiply(5, 2));\n",
    "console.log(multiply(5));\n",
    "console.log(multiply());"
   ]
  },
  {
   "cell_type": "code",
   "execution_count": 5,
   "metadata": {},
   "outputs": [
    {
     "name": "stdout",
     "output_type": "stream",
     "text": [
      "\u001b[33m10\u001b[39m \u001b[33m20\u001b[39m [ \u001b[33m30\u001b[39m, \u001b[33m40\u001b[39m, \u001b[33m50\u001b[39m ]\n",
      "\u001b[33m9\u001b[39m \u001b[33m6\u001b[39m { x: \u001b[33m1\u001b[39m, y: \u001b[33m2\u001b[39m, z: \u001b[33m3\u001b[39m, i: \u001b[33m4\u001b[39m }\n"
     ]
    }
   ],
   "source": [
    "let a, b, rest;\n",
    "[a, b, ...rest] = [10, 20, 30, 40, 50];\n",
    "console.log(a,b,rest);\n",
    "\n",
    "let obj = {x:1,y:2,z:3,i:4,b:6};\n",
    "({ a = 9, b, ...rest } = obj);\n",
    "console.log(a,b,rest);"
   ]
  },
  {
   "cell_type": "code",
   "execution_count": 9,
   "metadata": {},
   "outputs": [
    {
     "name": "stdout",
     "output_type": "stream",
     "text": [
      "\u001b[33m4\u001b[39m \u001b[33m3\u001b[39m\n"
     ]
    }
   ],
   "source": [
    "function howManyArgs(a,b,c){\n",
    "    console.log(arguments.length, howManyArgs.length)\n",
    "}\n",
    "howManyArgs(1,2,3,4)"
   ]
  },
  {
   "cell_type": "code",
   "execution_count": 6,
   "metadata": {},
   "outputs": [
    {
     "name": "stdout",
     "output_type": "stream",
     "text": [
      "[ \u001b[33m8\u001b[39m, \u001b[33m6\u001b[39m, \u001b[33m7\u001b[39m, \u001b[33m9\u001b[39m ]\n"
     ]
    }
   ],
   "source": [
    "const materials = ['Hydrogen', 'Helium', 'Lithium', 'Beryllium'];\n",
    "\n",
    "console.log(materials.map((material) => material.length));"
   ]
  },
  {
   "cell_type": "markdown",
   "metadata": {},
   "source": [
    "### Arrow"
   ]
  },
  {
   "cell_type": "code",
   "execution_count": null,
   "metadata": {},
   "outputs": [],
   "source": [
    "//TODO"
   ]
  },
  {
   "cell_type": "markdown",
   "metadata": {},
   "source": [
    "### Closures"
   ]
  },
  {
   "cell_type": "code",
   "execution_count": 5,
   "metadata": {},
   "outputs": [
    {
     "name": "stdout",
     "output_type": "stream",
     "text": [
      "displayName\n",
      "Mozilla Firefox browser\n",
      "Mozilla Firefox other\n"
     ]
    }
   ],
   "source": [
    "let type = \"browser\"\n",
    "function makeFunc(title = \"Firefox\") {\n",
    "  const name = \"Mozilla\";\n",
    "  function displayName() {\n",
    "    console.log(name, title, type);\n",
    "  }\n",
    "  return displayName;\n",
    "}\n",
    "\n",
    "const myFunc = makeFunc();\n",
    "console.log(myFunc.name)\n",
    "myFunc()\n",
    "type = \"other\"\n",
    "myFunc()"
   ]
  },
  {
   "cell_type": "markdown",
   "metadata": {},
   "source": [
    "## Objects"
   ]
  },
  {
   "cell_type": "code",
   "execution_count": 54,
   "metadata": {
    "metadata": {}
   },
   "outputs": [
    {
     "data": {
      "text/plain": [
       "\u001b[32m\"Hello world!\"\u001b[39m"
      ]
     },
     "execution_count": 54,
     "metadata": {},
     "output_type": "execute_result"
    }
   ],
   "source": [
    "let myObj = {\n",
    "    myFunc: function(){\n",
    "        return \"Hello world!\";\n",
    "    }\n",
    "};\n",
    "myObj.myFunc();"
   ]
  },
  {
   "cell_type": "code",
   "execution_count": 55,
   "metadata": {
    "metadata": {}
   },
   "outputs": [
    {
     "data": {
      "text/plain": [
       "\u001b[32m\"Hello world!\"\u001b[39m"
      ]
     },
     "execution_count": 55,
     "metadata": {},
     "output_type": "execute_result"
    }
   ],
   "source": [
    "myObj = {\n",
    "    myString: \"Hello world!\",\n",
    "    myFunc: function(){\n",
    "        return this.myString;\n",
    "    }\n",
    "};\n",
    "myObj.myFunc(); // = \"Hello world!\""
   ]
  },
  {
   "cell_type": "code",
   "execution_count": 58,
   "metadata": {
    "metadata": {}
   },
   "outputs": [
    {
     "data": {
      "text/plain": [
       "\u001b[32m\"HELLO WORLD!\"\u001b[39m"
      ]
     },
     "execution_count": 58,
     "metadata": {},
     "output_type": "execute_result"
    }
   ],
   "source": [
    "let myOtherFunc = function(){\n",
    "    return this.myString.toUpperCase();\n",
    "};\n",
    "myObj.myOtherFunc = myOtherFunc;\n",
    "myObj.myOtherFunc(); "
   ]
  },
  {
   "cell_type": "code",
   "execution_count": 63,
   "metadata": {
    "metadata": {}
   },
   "outputs": [
    {
     "ename": "SyntaxError",
     "evalue": "Identifier 'anotherFunc' has already been declared",
     "output_type": "error",
     "traceback": [
      "Stack trace:",
      "SyntaxError: Identifier 'anotherFunc' has already been declared"
     ]
    }
   ],
   "source": [
    "let anotherFunc = function(s){\n",
    "    return this.myString + s;\n",
    "};\n",
    "anotherFunc.call(myObj, \" And Hello Moon!\"); // = \"Hello World! And Hello Moon!\""
   ]
  },
  {
   "cell_type": "code",
   "execution_count": 61,
   "metadata": {
    "metadata": {}
   },
   "outputs": [
    {
     "data": {
      "text/plain": [
       "\u001b[32m\"Hello world! And Hello Sun!\"\u001b[39m"
      ]
     },
     "execution_count": 61,
     "metadata": {},
     "output_type": "execute_result"
    }
   ],
   "source": [
    "anotherFunc.apply(myObj, [\" And Hello Sun!\"]);"
   ]
  },
  {
   "cell_type": "code",
   "execution_count": 64,
   "metadata": {
    "metadata": {}
   },
   "outputs": [
    {
     "data": {
      "text/plain": [
       "\u001b[33m6\u001b[39m"
      ]
     },
     "execution_count": 64,
     "metadata": {},
     "output_type": "execute_result"
    }
   ],
   "source": [
    "Math.min(42, 6, 27); // = 6\n",
    "Math.min([42, 6, 27]); // = NaN (uh-oh!)\n",
    "Math.min.apply(Math, [42, 6, 27]); // = 6"
   ]
  },
  {
   "cell_type": "code",
   "execution_count": 65,
   "metadata": {
    "metadata": {}
   },
   "outputs": [
    {
     "data": {
      "text/plain": [
       "\u001b[32m\"Hello world! And Hello Saturn!\"\u001b[39m"
      ]
     },
     "execution_count": 65,
     "metadata": {},
     "output_type": "execute_result"
    }
   ],
   "source": [
    "// But, `call` and `apply` are only temporary. When we want it to stick, we can\n",
    "// use `bind`.\n",
    "\n",
    "let boundFunc = anotherFunc.bind(myObj);\n",
    "boundFunc(\" And Hello Saturn!\");"
   ]
  },
  {
   "cell_type": "code",
   "execution_count": 66,
   "metadata": {
    "metadata": {}
   },
   "outputs": [
    {
     "data": {
      "text/plain": [
       "\u001b[33m16\u001b[39m"
      ]
     },
     "execution_count": 66,
     "metadata": {},
     "output_type": "execute_result"
    }
   ],
   "source": [
    "// `bind` can also be used to partially apply (curry) a function.\n",
    "let product = function(a, b){ return a * b; };\n",
    "let doubler = product.bind(this, 2);\n",
    "doubler(8);"
   ]
  },
  {
   "cell_type": "code",
   "execution_count": 2,
   "metadata": {},
   "outputs": [
    {
     "name": "stdout",
     "output_type": "stream",
     "text": [
      "Los Angeles\n",
      "Los Angeles\n",
      "Dev\n"
     ]
    }
   ],
   "source": [
    "// Object destructoring\n",
    "const player = {\n",
    "    full_name: 'Lebron James',\n",
    "    club: 'LA Lakers',\n",
    "    address: {\n",
    "      city: 'Los Angeles'\n",
    "    }\n",
    "};\n",
    "console.log( player.address.city );\n",
    "const { full_name, club, address: { city } } = player;\n",
    "console.log( city );\n",
    "\n",
    "// Array destructoring\n",
    "let [firstName, middleName, lastName] = ['Dom', 'The', 'Dev']\n",
    "console.log(lastName)"
   ]
  },
  {
   "cell_type": "code",
   "execution_count": 3,
   "metadata": {},
   "outputs": [
    {
     "name": "stdout",
     "output_type": "stream",
     "text": [
      "{ city: \"Austin\", state: \"Texas\" }\n"
     ]
    }
   ],
   "source": [
    "// Infered object literals\n",
    "function addressMaker(city, state) {\n",
    "    const newAdress = {city: city, state};\n",
    "    \n",
    "    console.log(newAdress);\n",
    "}\n",
    "addressMaker('Austin', 'Texas');"
   ]
  },
  {
   "cell_type": "markdown",
   "metadata": {},
   "source": [
    "### `this.` & Explicit binding `(.call, .apply, .bind)`"
   ]
  },
  {
   "cell_type": "code",
   "execution_count": 14,
   "metadata": {},
   "outputs": [
    {
     "name": "stdout",
     "output_type": "stream",
     "text": [
      "Hi, Alice\n"
     ]
    }
   ],
   "source": [
    "let person = {\n",
    "  name: \"Alice\",\n",
    "  greet: function(word, punctuation){\n",
    "      console.log(word + punctuation + this.name)\n",
    "  }\n",
    "}\n",
    "\n",
    "person.greet(\"Hi\", \", \"); "
   ]
  },
  {
   "cell_type": "code",
   "execution_count": 16,
   "metadata": {},
   "outputs": [
    {
     "name": "stdout",
     "output_type": "stream",
     "text": [
      "Whats up! Bob\n"
     ]
    }
   ],
   "source": [
    "let person2 = { name: 'Bob' };\n",
    "person.greet.call(person2, \"Whats up\", \"! \")"
   ]
  },
  {
   "cell_type": "code",
   "execution_count": 17,
   "metadata": {},
   "outputs": [
    {
     "name": "stdout",
     "output_type": "stream",
     "text": [
      "Howdy! Jake\n"
     ]
    }
   ],
   "source": [
    "let person2 = { name: 'Jake' };\n",
    "person.greet.apply(person2, [\"Howdy\", \"! \"])"
   ]
  },
  {
   "cell_type": "code",
   "execution_count": 18,
   "metadata": {},
   "outputs": [
    {
     "name": "stdout",
     "output_type": "stream",
     "text": [
      "Hello? Tom\n"
     ]
    }
   ],
   "source": [
    "let person2 = { name: 'Tom' };\n",
    "let greet = person.greet.bind(person2, \"Hello\")\n",
    "greet(\"? \")"
   ]
  },
  {
   "cell_type": "code",
   "execution_count": 24,
   "metadata": {},
   "outputs": [
    {
     "ename": "TypeError",
     "evalue": "Cannot read properties of undefined (reading 'name')",
     "output_type": "error",
     "traceback": [
      "Stack trace:",
      "TypeError: Cannot read properties of undefined (reading 'name')",
      "    at greet (<anonymous>:2:38)",
      "    at <anonymous>:7:1"
     ]
    }
   ],
   "source": [
    "function greet(greeting, punctuation) {\n",
    "  console.log(greeting + ', ' + this.name + punctuation);\n",
    "}\n",
    "\n",
    "const person = { name: 'John' };\n",
    "\n",
    "// greet.call(person, 'Hello', '!'); // Output: Hello, John!\n",
    "greet(\"hi\", \"dude\")"
   ]
  },
  {
   "cell_type": "code",
   "execution_count": null,
   "metadata": {},
   "outputs": [],
   "source": [
    "function greet(greeting, name) {\n",
    "  console.log(`${greeting}, ${name}!`);\n",
    "}\n",
    "\n",
    "let alice = { name: 'Alice' };\n",
    "greet.call(obj, 'Hello', 'Alice')"
   ]
  },
  {
   "cell_type": "markdown",
   "metadata": {},
   "source": [
    "## Prototypes\n",
    "TODO\n",
    "- Constructors"
   ]
  },
  {
   "cell_type": "markdown",
   "metadata": {},
   "source": [
    "## Class"
   ]
  },
  {
   "cell_type": "markdown",
   "metadata": {},
   "source": [
    "### Constructor"
   ]
  },
  {
   "cell_type": "code",
   "execution_count": 2,
   "metadata": {},
   "outputs": [
    {
     "name": "stdout",
     "output_type": "stream",
     "text": [
      "John\n"
     ]
    }
   ],
   "source": [
    "class User {\n",
    "\n",
    "    constructor(name) {\n",
    "      this.name = name;\n",
    "    }\n",
    "  \n",
    "    sayHi() {\n",
    "      console.log(this.name);\n",
    "    }\n",
    "  \n",
    "  }\n",
    "  \n",
    "  // Usage:\n",
    "  let user = new User(\"John\");\n",
    "  user.sayHi();"
   ]
  },
  {
   "cell_type": "markdown",
   "metadata": {},
   "source": [
    "### getter setter"
   ]
  },
  {
   "cell_type": "code",
   "execution_count": 4,
   "metadata": {},
   "outputs": [
    {
     "name": "stdout",
     "output_type": "stream",
     "text": [
      "John\n",
      "Name is too short.\n"
     ]
    },
    {
     "data": {
      "text/plain": [
       "User {}"
      ]
     },
     "execution_count": 4,
     "metadata": {},
     "output_type": "execute_result"
    }
   ],
   "source": [
    "class User {\n",
    "\n",
    "    constructor(name) {\n",
    "      // invokes the setter\n",
    "      this.name = name;\n",
    "    }\n",
    "  \n",
    "    get name() {\n",
    "      return this._name;\n",
    "    }\n",
    "  \n",
    "    set name(value) {\n",
    "      if (value.length < 4) {\n",
    "        console.log(\"Name is too short.\");\n",
    "        return;\n",
    "      }\n",
    "      this._name = value;\n",
    "    }\n",
    "  \n",
    "  }\n",
    "  \n",
    "  let user = new User(\"John\");\n",
    "  console.log(user.name); // John\n",
    "  \n",
    "  user = new User(\"\"); // Name is too short."
   ]
  },
  {
   "cell_type": "markdown",
   "metadata": {},
   "source": [
    "### computed names"
   ]
  },
  {
   "cell_type": "code",
   "execution_count": 5,
   "metadata": {},
   "outputs": [
    {
     "name": "stdout",
     "output_type": "stream",
     "text": [
      "Hello\n"
     ]
    }
   ],
   "source": [
    "class User {\n",
    "    ['say' + 'Hi']() {\n",
    "        console.log(\"Hello\");\n",
    "    }\n",
    "  }\n",
    "new User().sayHi();"
   ]
  },
  {
   "cell_type": "markdown",
   "metadata": {},
   "source": [
    "## Set\n",
    "https://developer.mozilla.org/en-US/docs/Web/JavaScript/Reference/Global_Objects/Set"
   ]
  },
  {
   "cell_type": "code",
   "execution_count": 21,
   "metadata": {
    "metadata": {}
   },
   "outputs": [
    {
     "name": "stdout",
     "output_type": "stream",
     "text": [
      "Set(4) { 1, 2, 3, 4 }\n"
     ]
    }
   ],
   "source": [
    "const a = new Set([1, 2, 3]);\n",
    "const b = new Map([\n",
    "  [1, \"one\"],\n",
    "  [2, \"two\"],\n",
    "  [4, \"four\"],\n",
    "]);\n",
    "console.log(a.union(b)); // Set(4) {1, 2, 3, 4}"
   ]
  },
  {
   "cell_type": "markdown",
   "metadata": {},
   "source": [
    "## Map"
   ]
  },
  {
   "cell_type": "markdown",
   "metadata": {},
   "source": [
    "## TODO\n",
    "- Import Export\n",
    "- Proxy"
   ]
  },
  {
   "cell_type": "markdown",
   "metadata": {},
   "source": [
    "## Async..."
   ]
  },
  {
   "cell_type": "markdown",
   "metadata": {},
   "source": [
    "### Promise"
   ]
  },
  {
   "cell_type": "code",
   "execution_count": 23,
   "metadata": {},
   "outputs": [
    {
     "name": "stdout",
     "output_type": "stream",
     "text": [
      "Thank you, your payment was successful\n"
     ]
    },
    {
     "data": {
      "text/plain": [
       "Promise { \u001b[36m<pending>\u001b[39m }"
      ]
     },
     "execution_count": 23,
     "metadata": {},
     "output_type": "execute_result"
    }
   ],
   "source": [
    "const buyFlightTicket = () => {\n",
    "    return new Promise( (resolve, reject) => {\n",
    "        setTimeout( () => {\n",
    "            const error = false;\n",
    "            \n",
    "            if( error ) {\n",
    "                reject(\"Sorry your payment was not successful\")\n",
    "            } else {\n",
    "                resolve(\"Thank you, your payment was successful\");\n",
    "            }\n",
    "        }, 3)\n",
    "    })\n",
    "}\n",
    "\n",
    "buyFlightTicket()\n",
    "    .then( (success) => console.log(success))\n",
    "    .catch( (error) => console.log(error) );"
   ]
  },
  {
   "cell_type": "code",
   "execution_count": 26,
   "metadata": {},
   "outputs": [
    {
     "name": "stdout",
     "output_type": "stream",
     "text": [
      "Photo Uploaded\n",
      "1\n"
     ]
    },
    {
     "data": {
      "text/plain": [
       "Promise { \u001b[36m<pending>\u001b[39m }"
      ]
     },
     "execution_count": 26,
     "metadata": {},
     "output_type": "execute_result"
    }
   ],
   "source": [
    "const photos = [];\n",
    "\n",
    "async function photoUpload() {\n",
    "    let uploadStatus = new Promise( (resolve, reject) => {\n",
    "        setTimeout( () => {\n",
    "            photos.push(\"Profile Pic\");\n",
    "            resolve(\"Photo Uploaded\")\n",
    "        }, 300)\n",
    "    })\n",
    "    \n",
    "    let result = await uploadStatus;\n",
    "    \n",
    "    console.log(result);\n",
    "    console.log(photos.length);\n",
    "}\n",
    "\n",
    "photoUpload();"
   ]
  },
  {
   "cell_type": "code",
   "execution_count": 2,
   "metadata": {},
   "outputs": [
    {
     "name": "stdout",
     "output_type": "stream",
     "text": [
      "4\n"
     ]
    },
    {
     "data": {
      "text/plain": [
       "Promise { \u001b[90mundefined\u001b[39m }"
      ]
     },
     "execution_count": 2,
     "metadata": {},
     "output_type": "execute_result"
    }
   ],
   "source": [
    "// Promises can be chanied\n",
    "\n",
    "new Promise((resolve, reject) => {\n",
    "    resolve(1)\n",
    "})\n",
    "    .then(result => result * 2)\n",
    "    .then(result => result * 2)\n",
    "    .then(result => console.log(result))\n",
    "\n",
    "// Realistic use is chaining expensive operations"
   ]
  },
  {
   "cell_type": "markdown",
   "metadata": {},
   "source": [
    " #TODO better explanations\\\n",
    "JS engine queues:\n",
    "- Task - exec. 1 task at the time\n",
    "- Animation callbacks - exec. all queued tasks, except newly added (while running current ones)\n",
    "- Microtask - exec. all and new all new ones."
   ]
  },
  {
   "cell_type": "markdown",
   "metadata": {},
   "source": [
    "## Built ins"
   ]
  },
  {
   "cell_type": "markdown",
   "metadata": {},
   "source": [
    "### External data"
   ]
  },
  {
   "cell_type": "code",
   "execution_count": 18,
   "metadata": {},
   "outputs": [
    {
     "name": "stdout",
     "output_type": "stream",
     "text": [
      "{\n",
      "  postId: 1,\n",
      "  id: 1,\n",
      "  name: \"id labore ex et quam laborum\",\n",
      "  email: \"Eliseo@gardner.biz\",\n",
      "  body: \"laudantium enim quasi est quidem magnam voluptate ipsam eos\\n\" +\n",
      "    \"tempora quo necessitatibus\\n\" +\n",
      "    \"dolor quam au\"... 48 more characters\n",
      "}\n"
     ]
    },
    {
     "data": {
      "text/plain": [
       "Promise { \u001b[36m<pending>\u001b[39m }"
      ]
     },
     "execution_count": 18,
     "metadata": {},
     "output_type": "execute_result"
    },
    {
     "name": "stdout",
     "output_type": "stream",
     "text": [
      "{\n",
      "  postId: 1,\n",
      "  id: 1,\n",
      "  name: \"id labore ex et quam laborum\",\n",
      "  email: \"Eliseo@gardner.biz\",\n",
      "  body: \"laudantium enim quasi est quidem magnam voluptate ipsam eos\\n\" +\n",
      "    \"tempora quo necessitatibus\\n\" +\n",
      "    \"dolor quam au\"... 48 more characters\n",
      "}\n"
     ]
    }
   ],
   "source": [
    "fetch('https://jsonplaceholder.typicode.com/comments/1')\n",
    "    .then(response => response.json())\n",
    "    .then(data => console.log(data))\n",
    "// in notebook you need to rerun to get printed message"
   ]
  },
  {
   "cell_type": "code",
   "execution_count": null,
   "metadata": {},
   "outputs": [
    {
     "ename": "",
     "evalue": "",
     "output_type": "error",
     "traceback": [
      "\u001b[1;31mThe Kernel crashed while executing code in the current cell or a previous cell. \n",
      "\u001b[1;31mPlease review the code in the cell(s) to identify a possible cause of the failure. \n",
      "\u001b[1;31mClick <a href='https://aka.ms/vscodeJupyterKernelCrash'>here</a> for more info. \n",
      "\u001b[1;31mView Jupyter <a href='command:jupyter.viewOutput'>log</a> for further details."
     ]
    }
   ],
   "source": [
    "// Try to get an adapter from the user agent.\n",
    "const adapter = await navigator.gpu.requestAdapter();\n",
    "if (adapter) {\n",
    "  // Print out some basic details about the adapter.\n",
    "  const adapterInfo = await adapter.requestAdapterInfo();\n",
    "  console.log(`Found adapter: ${adapterInfo.device}`); // On some systems this will be blank\n",
    "  const features = [...adapter.features.values()];\n",
    "  console.log(`Supported features: ${features.join(\", \")}`);\n",
    "} else {\n",
    "  console.error(\"No adapter found\");\n",
    "}"
   ]
  }
 ],
 "metadata": {
  "kernelspec": {
   "display_name": "Deno",
   "language": "typescript",
   "name": "deno"
  },
  "language_info": {
   "file_extension": ".ts",
   "mimetype": "text/x.typescript",
   "name": "typescript",
   "nb_converter": "script",
   "pygments_lexer": "typescript",
   "version": "5.4.3"
  }
 },
 "nbformat": 4,
 "nbformat_minor": 4
}
