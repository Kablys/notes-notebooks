{
 "cells": [
  {
   "cell_type": "code",
   "execution_count": 1,
   "id": "25d38fdd-75f6-4b04-be3f-601ed6f361a4",
   "metadata": {},
   "outputs": [],
   "source": [
    "import iplantuml"
   ]
  },
  {
   "cell_type": "code",
   "execution_count": 4,
   "id": "3bbd1476-976c-47f6-ab04-b7a451134c90",
   "metadata": {},
   "outputs": [
    {
     "name": "stdout",
     "output_type": "stream",
     "text": [
      "Writing output for /home/dom/notes-notebooks/viz/6af24ca8-76c7-4dcf-8a54-5e85366f2c6b.uml to 6af24ca8-76c7-4dcf-8a54-5e85366f2c6b.svg\n"
     ]
    },
    {
     "data": {
      "image/svg+xml": [
       "<svg xmlns=\"http://www.w3.org/2000/svg\" xmlns:xlink=\"http://www.w3.org/1999/xlink\" contentStyleType=\"text/css\" height=\"149px\" preserveAspectRatio=\"none\" style=\"width:238px;height:149px;background:#FFFFFF;\" version=\"1.1\" viewBox=\"0 0 238 149\" width=\"238px\" zoomAndPan=\"magnify\"><defs/><g><line style=\"stroke:#181818;stroke-width:0.5;stroke-dasharray:5.0,5.0;\" x1=\"28\" x2=\"28\" y1=\"36.2969\" y2=\"114.5625\"/><line style=\"stroke:#181818;stroke-width:0.5;stroke-dasharray:5.0,5.0;\" x1=\"211\" x2=\"211\" y1=\"36.2969\" y2=\"114.5625\"/><rect fill=\"#E2E2F0\" height=\"30.2969\" rx=\"2.5\" ry=\"2.5\" style=\"stroke:#181818;stroke-width:0.5;\" width=\"46\" x=\"5\" y=\"5\"/><text fill=\"#000000\" font-family=\"sans-serif\" font-size=\"14\" lengthAdjust=\"spacing\" textLength=\"32\" x=\"12\" y=\"24.9951\">Alice</text><rect fill=\"#E2E2F0\" height=\"30.2969\" rx=\"2.5\" ry=\"2.5\" style=\"stroke:#181818;stroke-width:0.5;\" width=\"46\" x=\"5\" y=\"113.5625\"/><text fill=\"#000000\" font-family=\"sans-serif\" font-size=\"14\" lengthAdjust=\"spacing\" textLength=\"32\" x=\"12\" y=\"133.5576\">Alice</text><rect fill=\"#E2E2F0\" height=\"30.2969\" rx=\"2.5\" ry=\"2.5\" style=\"stroke:#181818;stroke-width:0.5;\" width=\"42\" x=\"190\" y=\"5\"/><text fill=\"#000000\" font-family=\"sans-serif\" font-size=\"14\" lengthAdjust=\"spacing\" textLength=\"28\" x=\"197\" y=\"24.9951\">Bob</text><rect fill=\"#E2E2F0\" height=\"30.2969\" rx=\"2.5\" ry=\"2.5\" style=\"stroke:#181818;stroke-width:0.5;\" width=\"42\" x=\"190\" y=\"113.5625\"/><text fill=\"#000000\" font-family=\"sans-serif\" font-size=\"14\" lengthAdjust=\"spacing\" textLength=\"28\" x=\"197\" y=\"133.5576\">Bob</text><polygon fill=\"#181818\" points=\"199,63.4297,209,67.4297,199,71.4297,203,67.4297\" style=\"stroke:#181818;stroke-width:1.0;\"/><line style=\"stroke:#181818;stroke-width:1.0;\" x1=\"28\" x2=\"205\" y1=\"67.4297\" y2=\"67.4297\"/><text fill=\"#000000\" font-family=\"sans-serif\" font-size=\"13\" lengthAdjust=\"spacing\" textLength=\"149\" x=\"35\" y=\"62.3638\">Authentication Request</text><polygon fill=\"#181818\" points=\"39,92.5625,29,96.5625,39,100.5625,35,96.5625\" style=\"stroke:#181818;stroke-width:1.0;\"/><line style=\"stroke:#181818;stroke-width:1.0;stroke-dasharray:2.0,2.0;\" x1=\"33\" x2=\"210\" y1=\"96.5625\" y2=\"96.5625\"/><text fill=\"#000000\" font-family=\"sans-serif\" font-size=\"13\" lengthAdjust=\"spacing\" textLength=\"159\" x=\"45\" y=\"91.4966\">Authentication Response</text><!--SRC=[Syp9J4vLqBLJSCfFib9mB2t9ICqhoKnEBCdCprC8IYqiJIqkuGBAAUW2rJY256DHLLoGdrUS2W00]--></g></svg>"
      ],
      "text/plain": [
       "<IPython.core.display.SVG object>"
      ]
     },
     "execution_count": 4,
     "metadata": {},
     "output_type": "execute_result"
    }
   ],
   "source": [
    "%%plantuml\n",
    "@startuml\n",
    "Alice -> Bob: Authentication Request\n",
    "Bob --> Alice: Authentication Response\n",
    "@enduml"
   ]
  },
  {
   "cell_type": "code",
   "execution_count": 6,
   "id": "d47faff6-5ded-41fb-9bcd-d62292db4144",
   "metadata": {},
   "outputs": [
    {
     "name": "stdout",
     "output_type": "stream",
     "text": [
      "Writing output for /home/dom/notes-notebooks/viz/f69a8bde-f391-488b-be86-9309b714246b.uml to f69a8bde-f391-488b-be86-9309b714246b.svg\n"
     ]
    },
    {
     "data": {
      "image/svg+xml": [
       "<svg xmlns=\"http://www.w3.org/2000/svg\" xmlns:xlink=\"http://www.w3.org/1999/xlink\" contentStyleType=\"text/css\" height=\"392px\" preserveAspectRatio=\"none\" style=\"width:471px;height:392px;background:#FFFFFF;\" version=\"1.1\" viewBox=\"0 0 471 392\" width=\"471px\" zoomAndPan=\"magnify\"><defs/><g><line style=\"stroke:#333333;stroke-width:0.5;\" x1=\"10\" x2=\"10\" y1=\"10\" y2=\"363.1875\"/><line style=\"stroke:#333333;stroke-width:0.5;\" x1=\"454\" x2=\"454\" y1=\"10\" y2=\"363.1875\"/><line style=\"stroke:#333333;stroke-width:0.5;stroke-dasharray:3.0,5.0;\" x1=\"99\" x2=\"99\" y1=\"10\" y2=\"363.1875\"/><line style=\"stroke:#333333;stroke-width:0.5;stroke-dasharray:3.0,5.0;\" x1=\"149\" x2=\"149\" y1=\"10\" y2=\"363.1875\"/><line style=\"stroke:#333333;stroke-width:0.5;stroke-dasharray:3.0,5.0;\" x1=\"199\" x2=\"199\" y1=\"10\" y2=\"363.1875\"/><line style=\"stroke:#333333;stroke-width:0.5;stroke-dasharray:3.0,5.0;\" x1=\"249\" x2=\"249\" y1=\"10\" y2=\"363.1875\"/><line style=\"stroke:#333333;stroke-width:0.5;stroke-dasharray:3.0,5.0;\" x1=\"299\" x2=\"299\" y1=\"10\" y2=\"363.1875\"/><line style=\"stroke:#333333;stroke-width:0.5;stroke-dasharray:3.0,5.0;\" x1=\"349\" x2=\"349\" y1=\"10\" y2=\"363.1875\"/><line style=\"stroke:#333333;stroke-width:0.5;stroke-dasharray:3.0,5.0;\" x1=\"399\" x2=\"399\" y1=\"10\" y2=\"363.1875\"/><line style=\"stroke:#333333;stroke-width:0.5;stroke-dasharray:3.0,5.0;\" x1=\"449\" x2=\"449\" y1=\"10\" y2=\"363.1875\"/><line style=\"stroke:#333333;stroke-width:0.5;\" x1=\"10\" x2=\"454\" y1=\"10\" y2=\"10\"/><text fill=\"#333333\" font-family=\"sans-serif\" font-size=\"14\" font-weight=\"bold\" lengthAdjust=\"spacing\" textLength=\"60\" x=\"15\" y=\"22.9951\">Clock_0</text><line style=\"stroke:#333333;stroke-width:0.5;\" x1=\"10\" x2=\"76\" y1=\"27.2969\" y2=\"27.2969\"/><line style=\"stroke:#333333;stroke-width:0.5;\" x1=\"76\" x2=\"86\" y1=\"27.2969\" y2=\"10\"/><line style=\"stroke:#006400;stroke-width:1.5;\" x1=\"99\" x2=\"99\" y1=\"34.2969\" y2=\"48.2969\"/><line style=\"stroke:#006400;stroke-width:1.5;\" x1=\"99\" x2=\"124\" y1=\"34.2969\" y2=\"34.2969\"/><line style=\"stroke:#006400;stroke-width:1.5;\" x1=\"124\" x2=\"124\" y1=\"34.2969\" y2=\"48.2969\"/><line style=\"stroke:#006400;stroke-width:1.5;\" x1=\"124\" x2=\"149\" y1=\"48.2969\" y2=\"48.2969\"/><line style=\"stroke:#006400;stroke-width:1.5;\" x1=\"149\" x2=\"149\" y1=\"34.2969\" y2=\"48.2969\"/><line style=\"stroke:#006400;stroke-width:1.5;\" x1=\"149\" x2=\"174\" y1=\"34.2969\" y2=\"34.2969\"/><line style=\"stroke:#006400;stroke-width:1.5;\" x1=\"174\" x2=\"174\" y1=\"34.2969\" y2=\"48.2969\"/><line style=\"stroke:#006400;stroke-width:1.5;\" x1=\"174\" x2=\"199\" y1=\"48.2969\" y2=\"48.2969\"/><line style=\"stroke:#006400;stroke-width:1.5;\" x1=\"199\" x2=\"199\" y1=\"34.2969\" y2=\"48.2969\"/><line style=\"stroke:#006400;stroke-width:1.5;\" x1=\"199\" x2=\"224\" y1=\"34.2969\" y2=\"34.2969\"/><line style=\"stroke:#006400;stroke-width:1.5;\" x1=\"224\" x2=\"224\" y1=\"34.2969\" y2=\"48.2969\"/><line style=\"stroke:#006400;stroke-width:1.5;\" x1=\"224\" x2=\"249\" y1=\"48.2969\" y2=\"48.2969\"/><line style=\"stroke:#006400;stroke-width:1.5;\" x1=\"249\" x2=\"249\" y1=\"34.2969\" y2=\"48.2969\"/><line style=\"stroke:#006400;stroke-width:1.5;\" x1=\"249\" x2=\"274\" y1=\"34.2969\" y2=\"34.2969\"/><line style=\"stroke:#006400;stroke-width:1.5;\" x1=\"274\" x2=\"274\" y1=\"34.2969\" y2=\"48.2969\"/><line style=\"stroke:#006400;stroke-width:1.5;\" x1=\"274\" x2=\"299\" y1=\"48.2969\" y2=\"48.2969\"/><line style=\"stroke:#006400;stroke-width:1.5;\" x1=\"299\" x2=\"299\" y1=\"34.2969\" y2=\"48.2969\"/><line style=\"stroke:#006400;stroke-width:1.5;\" x1=\"299\" x2=\"324\" y1=\"34.2969\" y2=\"34.2969\"/><line style=\"stroke:#006400;stroke-width:1.5;\" x1=\"324\" x2=\"324\" y1=\"34.2969\" y2=\"48.2969\"/><line style=\"stroke:#006400;stroke-width:1.5;\" x1=\"324\" x2=\"349\" y1=\"48.2969\" y2=\"48.2969\"/><line style=\"stroke:#006400;stroke-width:1.5;\" x1=\"349\" x2=\"349\" y1=\"34.2969\" y2=\"48.2969\"/><line style=\"stroke:#006400;stroke-width:1.5;\" x1=\"349\" x2=\"374\" y1=\"34.2969\" y2=\"34.2969\"/><line style=\"stroke:#006400;stroke-width:1.5;\" x1=\"374\" x2=\"374\" y1=\"34.2969\" y2=\"48.2969\"/><line style=\"stroke:#006400;stroke-width:1.5;\" x1=\"374\" x2=\"399\" y1=\"48.2969\" y2=\"48.2969\"/><line style=\"stroke:#006400;stroke-width:1.5;\" x1=\"399\" x2=\"399\" y1=\"34.2969\" y2=\"48.2969\"/><line style=\"stroke:#006400;stroke-width:1.5;\" x1=\"399\" x2=\"424\" y1=\"34.2969\" y2=\"34.2969\"/><line style=\"stroke:#006400;stroke-width:1.5;\" x1=\"424\" x2=\"424\" y1=\"34.2969\" y2=\"48.2969\"/><line style=\"stroke:#006400;stroke-width:1.5;\" x1=\"424\" x2=\"449\" y1=\"48.2969\" y2=\"48.2969\"/><line style=\"stroke:#006400;stroke-width:1.5;\" x1=\"449\" x2=\"449\" y1=\"34.2969\" y2=\"48.2969\"/><line style=\"stroke:#006400;stroke-width:1.5;\" x1=\"449\" x2=\"449\" y1=\"34.2969\" y2=\"34.2969\"/><line style=\"stroke:#333333;stroke-width:0.5;\" x1=\"10\" x2=\"454\" y1=\"56.2969\" y2=\"56.2969\"/><text fill=\"#333333\" font-family=\"sans-serif\" font-size=\"14\" font-weight=\"bold\" lengthAdjust=\"spacing\" textLength=\"60\" x=\"15\" y=\"69.292\">Clock_1</text><line style=\"stroke:#333333;stroke-width:0.5;\" x1=\"10\" x2=\"76\" y1=\"73.5938\" y2=\"73.5938\"/><line style=\"stroke:#333333;stroke-width:0.5;\" x1=\"76\" x2=\"86\" y1=\"73.5938\" y2=\"56.2969\"/><line style=\"stroke:#006400;stroke-width:1.5;\" x1=\"99\" x2=\"109\" y1=\"94.5938\" y2=\"94.5938\"/><line style=\"stroke:#006400;stroke-width:1.5;\" x1=\"109\" x2=\"109\" y1=\"80.5938\" y2=\"94.5938\"/><line style=\"stroke:#006400;stroke-width:1.5;\" x1=\"109\" x2=\"124\" y1=\"80.5938\" y2=\"80.5938\"/><line style=\"stroke:#006400;stroke-width:1.5;\" x1=\"124\" x2=\"124\" y1=\"80.5938\" y2=\"94.5938\"/><line style=\"stroke:#006400;stroke-width:1.5;\" x1=\"124\" x2=\"159\" y1=\"94.5938\" y2=\"94.5938\"/><line style=\"stroke:#006400;stroke-width:1.5;\" x1=\"159\" x2=\"159\" y1=\"80.5938\" y2=\"94.5938\"/><line style=\"stroke:#006400;stroke-width:1.5;\" x1=\"159\" x2=\"174\" y1=\"80.5938\" y2=\"80.5938\"/><line style=\"stroke:#006400;stroke-width:1.5;\" x1=\"174\" x2=\"174\" y1=\"80.5938\" y2=\"94.5938\"/><line style=\"stroke:#006400;stroke-width:1.5;\" x1=\"174\" x2=\"209\" y1=\"94.5938\" y2=\"94.5938\"/><line style=\"stroke:#006400;stroke-width:1.5;\" x1=\"209\" x2=\"209\" y1=\"80.5938\" y2=\"94.5938\"/><line style=\"stroke:#006400;stroke-width:1.5;\" x1=\"209\" x2=\"224\" y1=\"80.5938\" y2=\"80.5938\"/><line style=\"stroke:#006400;stroke-width:1.5;\" x1=\"224\" x2=\"224\" y1=\"80.5938\" y2=\"94.5938\"/><line style=\"stroke:#006400;stroke-width:1.5;\" x1=\"224\" x2=\"259\" y1=\"94.5938\" y2=\"94.5938\"/><line style=\"stroke:#006400;stroke-width:1.5;\" x1=\"259\" x2=\"259\" y1=\"80.5938\" y2=\"94.5938\"/><line style=\"stroke:#006400;stroke-width:1.5;\" x1=\"259\" x2=\"274\" y1=\"80.5938\" y2=\"80.5938\"/><line style=\"stroke:#006400;stroke-width:1.5;\" x1=\"274\" x2=\"274\" y1=\"80.5938\" y2=\"94.5938\"/><line style=\"stroke:#006400;stroke-width:1.5;\" x1=\"274\" x2=\"309\" y1=\"94.5938\" y2=\"94.5938\"/><line style=\"stroke:#006400;stroke-width:1.5;\" x1=\"309\" x2=\"309\" y1=\"80.5938\" y2=\"94.5938\"/><line style=\"stroke:#006400;stroke-width:1.5;\" x1=\"309\" x2=\"324\" y1=\"80.5938\" y2=\"80.5938\"/><line style=\"stroke:#006400;stroke-width:1.5;\" x1=\"324\" x2=\"324\" y1=\"80.5938\" y2=\"94.5938\"/><line style=\"stroke:#006400;stroke-width:1.5;\" x1=\"324\" x2=\"359\" y1=\"94.5938\" y2=\"94.5938\"/><line style=\"stroke:#006400;stroke-width:1.5;\" x1=\"359\" x2=\"359\" y1=\"80.5938\" y2=\"94.5938\"/><line style=\"stroke:#006400;stroke-width:1.5;\" x1=\"359\" x2=\"374\" y1=\"80.5938\" y2=\"80.5938\"/><line style=\"stroke:#006400;stroke-width:1.5;\" x1=\"374\" x2=\"374\" y1=\"80.5938\" y2=\"94.5938\"/><line style=\"stroke:#006400;stroke-width:1.5;\" x1=\"374\" x2=\"409\" y1=\"94.5938\" y2=\"94.5938\"/><line style=\"stroke:#006400;stroke-width:1.5;\" x1=\"409\" x2=\"409\" y1=\"80.5938\" y2=\"94.5938\"/><line style=\"stroke:#006400;stroke-width:1.5;\" x1=\"409\" x2=\"424\" y1=\"80.5938\" y2=\"80.5938\"/><line style=\"stroke:#006400;stroke-width:1.5;\" x1=\"424\" x2=\"424\" y1=\"80.5938\" y2=\"94.5938\"/><line style=\"stroke:#006400;stroke-width:1.5;\" x1=\"424\" x2=\"449\" y1=\"94.5938\" y2=\"94.5938\"/><line style=\"stroke:#333333;stroke-width:0.5;\" x1=\"10\" x2=\"454\" y1=\"102.5938\" y2=\"102.5938\"/><text fill=\"#333333\" font-family=\"sans-serif\" font-size=\"14\" font-weight=\"bold\" lengthAdjust=\"spacing\" textLength=\"49\" x=\"15\" y=\"122.4404\">Binary</text><line style=\"stroke:#006400;stroke-width:2.0;\" x1=\"99\" x2=\"199\" y1=\"124.5938\" y2=\"124.5938\"/><line style=\"stroke:#006400;stroke-width:2.0;\" x1=\"199\" x2=\"199\" y1=\"110.5938\" y2=\"124.5938\"/><line style=\"stroke:#006400;stroke-width:2.0;\" x1=\"199\" x2=\"449\" y1=\"110.5938\" y2=\"110.5938\"/><line style=\"stroke:#333333;stroke-width:0.5;\" x1=\"10\" x2=\"454\" y1=\"132.5938\" y2=\"132.5938\"/><text fill=\"#333333\" font-family=\"sans-serif\" font-size=\"14\" font-weight=\"bold\" lengthAdjust=\"spacing\" textLength=\"63\" x=\"15\" y=\"145.5889\">Concise</text><line style=\"stroke:#333333;stroke-width:0.5;\" x1=\"10\" x2=\"79\" y1=\"149.8906\" y2=\"149.8906\"/><line style=\"stroke:#333333;stroke-width:0.5;\" x1=\"79\" x2=\"89\" y1=\"149.8906\" y2=\"132.5938\"/><polygon fill=\"#E2E2F0\" points=\"111,154.8906,187,154.8906,199,166.8906,187,178.8906,111,178.8906,99,166.8906\" style=\"stroke:#006400;stroke-width:1.5;\"/><polygon fill=\"#E2E2F0\" points=\"211,154.8906,449,154.8906,449,178.8906,211,178.8906,199,166.8906\" style=\"stroke:#E2E2F0;stroke-width:1.5;\"/><path d=\"M449,154.8906 L211,154.8906 L199,166.8906 L211,178.8906 L449,178.8906 \" fill=\"#E2E2F0\" style=\"stroke:#006400;stroke-width:1.5;\"/><text fill=\"#333333\" font-family=\"sans-serif\" font-size=\"12\" font-weight=\"bold\" lengthAdjust=\"spacing\" textLength=\"26\" x=\"136\" y=\"171.0449\">Idle</text><text fill=\"#333333\" font-family=\"sans-serif\" font-size=\"12\" font-weight=\"bold\" lengthAdjust=\"spacing\" textLength=\"55\" x=\"211\" y=\"171.0449\">Waiting</text><line style=\"stroke:#333333;stroke-width:0.5;\" x1=\"10\" x2=\"454\" y1=\"188.8906\" y2=\"188.8906\"/><text fill=\"#333333\" font-family=\"sans-serif\" font-size=\"14\" font-weight=\"bold\" lengthAdjust=\"spacing\" textLength=\"55\" x=\"15\" y=\"201.8857\">Robust</text><line style=\"stroke:#333333;stroke-width:0.5;\" x1=\"10\" x2=\"71\" y1=\"206.1875\" y2=\"206.1875\"/><line style=\"stroke:#333333;stroke-width:0.5;\" x1=\"71\" x2=\"81\" y1=\"206.1875\" y2=\"188.8906\"/><text fill=\"#333333\" font-family=\"sans-serif\" font-size=\"12\" lengthAdjust=\"spacing\" textLength=\"22\" x=\"25\" y=\"256.3418\">Idle</text><text fill=\"#333333\" font-family=\"sans-serif\" font-size=\"12\" lengthAdjust=\"spacing\" textLength=\"69\" x=\"25\" y=\"236.3418\">Processing</text><text fill=\"#333333\" font-family=\"sans-serif\" font-size=\"12\" lengthAdjust=\"spacing\" textLength=\"46\" x=\"25\" y=\"216.3418\">Waiting</text><line style=\"stroke:#006400;stroke-width:2.0;\" x1=\"99\" x2=\"199\" y1=\"251.1875\" y2=\"251.1875\"/><line style=\"stroke:#006400;stroke-width:2.0;\" x1=\"199\" x2=\"399\" y1=\"231.1875\" y2=\"231.1875\"/><line style=\"stroke:#006400;stroke-width:2.0;\" x1=\"399\" x2=\"449\" y1=\"211.1875\" y2=\"211.1875\"/><line style=\"stroke:#006400;stroke-width:2.0;\" x1=\"199\" x2=\"199\" y1=\"231.1875\" y2=\"251.1875\"/><line style=\"stroke:#006400;stroke-width:2.0;\" x1=\"399\" x2=\"399\" y1=\"211.1875\" y2=\"231.1875\"/><line style=\"stroke:#333333;stroke-width:0.5;\" x1=\"10\" x2=\"454\" y1=\"263.1875\" y2=\"263.1875\"/><text fill=\"#333333\" font-family=\"sans-serif\" font-size=\"14\" font-weight=\"bold\" lengthAdjust=\"spacing\" textLength=\"54\" x=\"15\" y=\"318.0342\">Analog</text><text fill=\"#333333\" font-family=\"sans-serif\" font-size=\"14\" font-weight=\"bold\" lengthAdjust=\"spacing\" textLength=\"25\" x=\"72\" y=\"360.0342\">0.0</text><text fill=\"#333333\" font-family=\"sans-serif\" font-size=\"14\" font-weight=\"bold\" lengthAdjust=\"spacing\" textLength=\"25\" x=\"72\" y=\"276.0342\">3.0</text><line style=\"stroke:#333333;stroke-width:0.5;\" x1=\"99\" x2=\"99\" y1=\"355.1875\" y2=\"355.1875\"/><line style=\"stroke:#333333;stroke-width:0.5;\" x1=\"99\" x2=\"199\" y1=\"355.1875\" y2=\"271.1875\"/><line style=\"stroke:#333333;stroke-width:0.5;\" x1=\"199\" x2=\"399\" y1=\"271.1875\" y2=\"327.1875\"/><line style=\"stroke:#333333;stroke-width:0.5;\" x1=\"399\" x2=\"449\" y1=\"327.1875\" y2=\"327.1875\"/><line style=\"stroke:#333333;stroke-width:2.0;\" x1=\"99\" x2=\"99\" y1=\"363.1875\" y2=\"368.1875\"/><line style=\"stroke:#333333;stroke-width:2.0;\" x1=\"149\" x2=\"149\" y1=\"363.1875\" y2=\"368.1875\"/><line style=\"stroke:#333333;stroke-width:2.0;\" x1=\"199\" x2=\"199\" y1=\"363.1875\" y2=\"368.1875\"/><line style=\"stroke:#333333;stroke-width:2.0;\" x1=\"249\" x2=\"249\" y1=\"363.1875\" y2=\"368.1875\"/><line style=\"stroke:#333333;stroke-width:2.0;\" x1=\"299\" x2=\"299\" y1=\"363.1875\" y2=\"368.1875\"/><line style=\"stroke:#333333;stroke-width:2.0;\" x1=\"349\" x2=\"349\" y1=\"363.1875\" y2=\"368.1875\"/><line style=\"stroke:#333333;stroke-width:2.0;\" x1=\"399\" x2=\"399\" y1=\"363.1875\" y2=\"368.1875\"/><line style=\"stroke:#333333;stroke-width:2.0;\" x1=\"449\" x2=\"449\" y1=\"363.1875\" y2=\"368.1875\"/><line style=\"stroke:#333333;stroke-width:2.0;\" x1=\"99\" x2=\"449\" y1=\"363.1875\" y2=\"363.1875\"/><text fill=\"#333333\" font-family=\"sans-serif\" font-size=\"11\" lengthAdjust=\"spacing\" textLength=\"7\" x=\"95.5\" y=\"379.3979\">0</text><text fill=\"#333333\" font-family=\"sans-serif\" font-size=\"11\" lengthAdjust=\"spacing\" textLength=\"14\" x=\"142\" y=\"379.3979\">50</text><text fill=\"#333333\" font-family=\"sans-serif\" font-size=\"11\" lengthAdjust=\"spacing\" textLength=\"21\" x=\"188.5\" y=\"379.3979\">100</text><text fill=\"#333333\" font-family=\"sans-serif\" font-size=\"11\" lengthAdjust=\"spacing\" textLength=\"21\" x=\"388.5\" y=\"379.3979\">300</text><!--SRC=[NOnB3i8W443tSue99u0qtTkoScVOk3IKqfP8e04Qu-tb4uswUpFptYZhrHqH2IzmeoIpZCWfFapQSDV1-1bx2kfNP6-H_Ocu7pPgP3twPOaw8QCm6IV3CxTZ1LBB4PHtocINy0QaFeJWfoEcR8iApHOWdRH-pUkXGbiF072YmD54FCzMW_ZGK8ZcCwCKnZ9iPjsQUfKc6RSs-nAyqZ6MkJPTRhhSY6-pNjWB]--></g></svg>"
      ],
      "text/plain": [
       "<IPython.core.display.SVG object>"
      ]
     },
     "execution_count": 6,
     "metadata": {},
     "output_type": "execute_result"
    }
   ],
   "source": [
    "%%plantuml\n",
    "@startuml\n",
    "clock   \"Clock_0\"   as C0 with period 50\n",
    "clock   \"Clock_1\"   as C1 with period 50 pulse 15 offset 10\n",
    "binary  \"Binary\"  as B\n",
    "concise \"Concise\" as C\n",
    "robust  \"Robust\"  as R\n",
    "analog  \"Analog\"  as A\n",
    "\n",
    "\n",
    "@0\n",
    "C is Idle\n",
    "R is Idle\n",
    "A is 0\n",
    "\n",
    "@100\n",
    "B is high\n",
    "C is Waiting\n",
    "R is Processing\n",
    "A is 3\n",
    "\n",
    "@300\n",
    "R is Waiting\n",
    "A is 1\n",
    "@enduml\n"
   ]
  }
 ],
 "metadata": {
  "kernelspec": {
   "display_name": "Python 3 (ipykernel)",
   "language": "python",
   "name": "python3"
  },
  "language_info": {
   "codemirror_mode": {
    "name": "ipython",
    "version": 3
   },
   "file_extension": ".py",
   "mimetype": "text/x-python",
   "name": "python",
   "nbconvert_exporter": "python",
   "pygments_lexer": "ipython3",
   "version": "3.10.12"
  }
 },
 "nbformat": 4,
 "nbformat_minor": 5
}
