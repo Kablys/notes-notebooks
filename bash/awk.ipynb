{
 "cells": [
  {
   "cell_type": "code",
   "execution_count": 3,
   "id": "15395c64-d56e-465a-9805-fce993a84e67",
   "metadata": {},
   "outputs": [
    {
     "name": "stdout",
     "output_type": "stream",
     "text": [
      "1) Amit     Physics    80\n",
      "2) Rahul    Maths      90\n",
      "3) Shyam    Biology    87\n",
      "4) Kedar    English    85\n",
      "5) Hari     History    89\n"
     ]
    }
   ],
   "source": [
    "awk '{print}' marks.txt"
   ]
  },
  {
   "cell_type": "code",
   "execution_count": 4,
   "id": "b61bf39c-6fa4-472c-962e-4afc96df0def",
   "metadata": {},
   "outputs": [
    {
     "name": "stdout",
     "output_type": "stream",
     "text": [
      "Name = Jerry\n"
     ]
    }
   ],
   "source": [
    "awk -v name=Jerry 'BEGIN{printf \"Name = %s\\n\", name}'"
   ]
  },
  {
   "cell_type": "code",
   "execution_count": 5,
   "id": "1416b531-a792-440d-81e6-deeac3756e0b",
   "metadata": {},
   "outputs": [
    {
     "name": "stdout",
     "output_type": "stream",
     "text": [
      "Total = 431\n"
     ]
    }
   ],
   "source": [
    "awk '{ sum += $NF } END { print \"Total =\", sum }' marks.txt"
   ]
  }
 ],
 "metadata": {
  "kernelspec": {
   "display_name": "Bash",
   "language": "bash",
   "name": "bash"
  },
  "language_info": {
   "codemirror_mode": "shell",
   "file_extension": ".sh",
   "mimetype": "text/x-sh",
   "name": "bash"
  }
 },
 "nbformat": 4,
 "nbformat_minor": 5
}
